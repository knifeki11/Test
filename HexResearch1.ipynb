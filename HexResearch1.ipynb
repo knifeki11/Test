{
  "nbformat": 4,
  "nbformat_minor": 0,
  "metadata": {
    "colab": {
      "provenance": [],
      "authorship_tag": "ABX9TyO0UZ2bUjXROo7SXORJmTD3",
      "include_colab_link": true
    },
    "kernelspec": {
      "name": "python3",
      "display_name": "Python 3"
    },
    "language_info": {
      "name": "python"
    }
  },
  "cells": [
    {
      "cell_type": "markdown",
      "metadata": {
        "id": "view-in-github",
        "colab_type": "text"
      },
      "source": [
        "<a href=\"https://colab.research.google.com/github/knifeki11/Test/blob/main/HexResearch1.ipynb\" target=\"_parent\"><img src=\"https://colab.research.google.com/assets/colab-badge.svg\" alt=\"Open In Colab\"/></a>"
      ]
    },
    {
      "cell_type": "code",
      "source": [
        "!pip3 install ColabTurtle"
      ],
      "metadata": {
        "colab": {
          "base_uri": "https://localhost:8080/"
        },
        "id": "XgSurh5VVSzc",
        "outputId": "393e1697-9b1f-4927-cd23-8392c0f4db55"
      },
      "execution_count": null,
      "outputs": [
        {
          "output_type": "stream",
          "name": "stdout",
          "text": [
            "Collecting ColabTurtle\n",
            "  Downloading ColabTurtle-2.1.0.tar.gz (6.8 kB)\n",
            "  Preparing metadata (setup.py) ... \u001b[?25l\u001b[?25hdone\n",
            "Building wheels for collected packages: ColabTurtle\n",
            "  Building wheel for ColabTurtle (setup.py) ... \u001b[?25l\u001b[?25hdone\n",
            "  Created wheel for ColabTurtle: filename=ColabTurtle-2.1.0-py3-none-any.whl size=7641 sha256=289dc549572d4636b3dae3f9c78f2c0300498b0625f5b97176249ebb3153a156\n",
            "  Stored in directory: /root/.cache/pip/wheels/5b/86/e8/54f5c8c853606e3a3060bb2e60363cbed632374a12e0f33ffc\n",
            "Successfully built ColabTurtle\n",
            "Installing collected packages: ColabTurtle\n",
            "Successfully installed ColabTurtle-2.1.0\n"
          ]
        }
      ]
    },
    {
      "cell_type": "code",
      "source": [
        "import ColabTurtle.Turtle as lia\n",
        "\n",
        "lia.initializeTurtle(initial_speed=9, initial_window_size=(1500,1500))\n",
        "\n",
        "def half_hexagon():\n",
        "    for i in range(4) :\n",
        "        lia.forward(90)\n",
        "        lia.right(300)\n",
        "\n",
        "def infected_half_hexagon():\n",
        "    lia.color(\"red\")\n",
        "    for i in range(4) :\n",
        "        lia.forward(90)\n",
        "        lia.right(300)\n",
        "    lia.color(\"white\")\n",
        "\n",
        "def hexa():\n",
        "    for i in range(6) :\n",
        "        lia.forward(90)\n",
        "        lia.right(300)\n",
        "\n",
        "def infect_hexa():\n",
        "    lia.color(\"red\")\n",
        "    for i in range(6) :\n",
        "        lia.forward(90)\n",
        "        lia.right(300)\n",
        "    lia.color(\"white\")\n",
        "\n",
        "def hexagon_go_left(n):\n",
        "    for i in range(n):\n",
        "        hexa()\n",
        "        lia.left(120)\n",
        "        lia.forward(90)\n",
        "        lia.right(60)\n",
        "        lia.forward(90)\n",
        "        lia.right(60)\n",
        "\n",
        "def infect_left_corner():\n",
        "    infect_hexa()\n",
        "    lia.left(120)\n",
        "    lia.forward(90)\n",
        "    lia.right(60)\n",
        "    lia.forward(90)\n",
        "    lia.right(60)\n",
        "\n",
        "\n",
        "def hexagon_go_right(n):\n",
        "    for i in range(n-1):\n",
        "        half_hexagon()\n",
        "        lia.left(120)\n",
        "    hexa()\n",
        "\n",
        "def infect_right_corner():\n",
        "    half_hexagon()\n",
        "    lia.left(120)\n",
        "    infect_hexa()\n",
        "\n",
        "def grid(m,n):\n",
        "    for i in range(m):\n",
        "        if i%2 == 0:\n",
        "            hexagon_go_left(n)\n",
        "            if i != m-1:\n",
        "                lia.right(120)\n",
        "                lia.forward(90)\n",
        "                lia.right(60)\n",
        "        else:\n",
        "            hexagon_go_right(n)\n",
        "            if i != m-1:\n",
        "                lia.forward(90)\n",
        "                lia.left(60)\n",
        "                lia.forward(90)\n",
        "                lia.right(60)\n",
        "                lia.forward(90)\n",
        "                lia.right(180)\n",
        "\n",
        "\n",
        "def infect_corners_to_left(n):\n",
        "    infect_hexa()\n",
        "    lia.color(\"red\")\n",
        "    lia.left(120)\n",
        "    lia.forward(90)\n",
        "    lia.right(60)\n",
        "    lia.forward(90)\n",
        "    lia.right(60)\n",
        "    lia.color(\"white\")\n",
        "    hexagon_go_left(n-2)\n",
        "    lia.forward(90)\n",
        "    lia.left(60)\n",
        "    infect_hexa()\n",
        "    lia.left(120)\n",
        "    lia.forward(90)\n",
        "    lia.right(60)\n",
        "    lia.color(\"red\")\n",
        "    lia.forward(90)\n",
        "    lia.left(60)\n",
        "    lia.color(\"white\")\n",
        "\n",
        "def infect_corners_to_right(n):\n",
        "    infect_hexa()\n",
        "    lia.color(\"red\")\n",
        "    lia.forward(90)\n",
        "    lia.left(60)\n",
        "    lia.forward(90)\n",
        "    lia.left(60)\n",
        "    lia.forward(90)\n",
        "    lia.left(60)\n",
        "    lia.forward(90)\n",
        "    lia.color(\"white\")\n",
        "    lia.left(120)\n",
        "    lia.right(180)\n",
        "    lia.forward(90)\n",
        "    lia.left(60)\n",
        "    lia.forward(90)\n",
        "    lia.left(60)\n",
        "    lia.forward(90)\n",
        "    lia.right(180)\n",
        "    lia.forward(90)\n",
        "    lia.left(60)\n",
        "    lia.forward(90)\n",
        "    lia.left(60)\n",
        "    lia.forward(90)\n",
        "    lia.left(60)\n",
        "    lia.forward(90)\n",
        "    lia.right(180)\n",
        "    lia.color(\"red\")\n",
        "    infect_hexa()\n",
        "\n",
        "\n",
        "\n",
        "def infected_grid(m,n):\n",
        "    infect_corners_to_left(n)\n",
        "    hexagon_go_right(n)\n",
        "    lia.forward(90)\n",
        "    lia.left(60)\n",
        "    lia.forward(90)\n",
        "    lia.right(60)\n",
        "    lia.forward(90)\n",
        "    lia.left(180)\n",
        "    hexagon_go_left(n)\n",
        "    lia.right(120)\n",
        "    lia.forward(90)\n",
        "    lia.left(60)\n",
        "    lia.forward(90)\n",
        "    lia.left(180)\n",
        "    infect_corners_to_right(n)\n",
        "\n",
        "\n",
        "grid(3,3)\n",
        "#infected_grid(4, 4)\n",
        "#half_hexagon()\n"
      ],
      "metadata": {
        "colab": {
          "base_uri": "https://localhost:8080/",
          "height": 1000
        },
        "id": "3P2W8E_y2wNQ",
        "outputId": "9527a8ee-5b0e-4ff4-8c08-386808da36bd"
      },
      "execution_count": null,
      "outputs": [
        {
          "output_type": "display_data",
          "data": {
            "text/plain": [
              "<IPython.core.display.HTML object>"
            ],
            "text/html": [
              "\n",
              "      <svg width=\"1500\" height=\"1500\">\n",
              "        <rect width=\"100%\" height=\"100%\" fill=\"black\"/>\n",
              "        <line x1=\"750\" y1=\"750\" x2=\"750.0\" y2=\"660.0\" stroke-linecap=\"round\" style=\"stroke:white;stroke-width:4\"/><line x1=\"750.0\" y1=\"660.0\" x2=\"672.058\" y2=\"615.0\" stroke-linecap=\"round\" style=\"stroke:white;stroke-width:4\"/><line x1=\"672.058\" y1=\"615.0\" x2=\"594.116\" y2=\"660.0\" stroke-linecap=\"round\" style=\"stroke:white;stroke-width:4\"/><line x1=\"594.116\" y1=\"660.0\" x2=\"594.116\" y2=\"750.0\" stroke-linecap=\"round\" style=\"stroke:white;stroke-width:4\"/><line x1=\"594.116\" y1=\"750.0\" x2=\"672.058\" y2=\"795.0\" stroke-linecap=\"round\" style=\"stroke:white;stroke-width:4\"/><line x1=\"672.058\" y1=\"795.0\" x2=\"750.0\" y2=\"750.0\" stroke-linecap=\"round\" style=\"stroke:white;stroke-width:4\"/><line x1=\"750.0\" y1=\"750.0\" x2=\"672.058\" y2=\"795.0\" stroke-linecap=\"round\" style=\"stroke:white;stroke-width:4\"/><line x1=\"672.058\" y1=\"795.0\" x2=\"594.116\" y2=\"750.0\" stroke-linecap=\"round\" style=\"stroke:white;stroke-width:4\"/><line x1=\"594.116\" y1=\"750.0\" x2=\"594.116\" y2=\"660.0\" stroke-linecap=\"round\" style=\"stroke:white;stroke-width:4\"/><line x1=\"594.116\" y1=\"660.0\" x2=\"516.174\" y2=\"615.0\" stroke-linecap=\"round\" style=\"stroke:white;stroke-width:4\"/><line x1=\"516.174\" y1=\"615.0\" x2=\"438.232\" y2=\"660.0\" stroke-linecap=\"round\" style=\"stroke:white;stroke-width:4\"/><line x1=\"438.232\" y1=\"660.0\" x2=\"438.232\" y2=\"750.0\" stroke-linecap=\"round\" style=\"stroke:white;stroke-width:4\"/><line x1=\"438.232\" y1=\"750.0\" x2=\"516.174\" y2=\"795.0\" stroke-linecap=\"round\" style=\"stroke:white;stroke-width:4\"/><line x1=\"516.174\" y1=\"795.0\" x2=\"594.116\" y2=\"750.0\" stroke-linecap=\"round\" style=\"stroke:white;stroke-width:4\"/><line x1=\"594.116\" y1=\"750.0\" x2=\"516.174\" y2=\"795.0\" stroke-linecap=\"round\" style=\"stroke:white;stroke-width:4\"/><line x1=\"516.174\" y1=\"795.0\" x2=\"438.232\" y2=\"750.0\" stroke-linecap=\"round\" style=\"stroke:white;stroke-width:4\"/><line x1=\"438.232\" y1=\"750.0\" x2=\"438.232\" y2=\"660.0\" stroke-linecap=\"round\" style=\"stroke:white;stroke-width:4\"/><line x1=\"438.232\" y1=\"660.0\" x2=\"360.29\" y2=\"615.0\" stroke-linecap=\"round\" style=\"stroke:white;stroke-width:4\"/><line x1=\"360.29\" y1=\"615.0\" x2=\"282.348\" y2=\"660.0\" stroke-linecap=\"round\" style=\"stroke:white;stroke-width:4\"/><line x1=\"282.348\" y1=\"660.0\" x2=\"282.348\" y2=\"750.0\" stroke-linecap=\"round\" style=\"stroke:white;stroke-width:4\"/><line x1=\"282.348\" y1=\"750.0\" x2=\"360.29\" y2=\"795.0\" stroke-linecap=\"round\" style=\"stroke:white;stroke-width:4\"/><line x1=\"360.29\" y1=\"795.0\" x2=\"438.232\" y2=\"750.0\" stroke-linecap=\"round\" style=\"stroke:white;stroke-width:4\"/><line x1=\"438.232\" y1=\"750.0\" x2=\"360.29\" y2=\"795.0\" stroke-linecap=\"round\" style=\"stroke:white;stroke-width:4\"/><line x1=\"360.29\" y1=\"795.0\" x2=\"282.348\" y2=\"750.0\" stroke-linecap=\"round\" style=\"stroke:white;stroke-width:4\"/><line x1=\"282.348\" y1=\"750.0\" x2=\"360.29\" y2=\"795.0\" stroke-linecap=\"round\" style=\"stroke:white;stroke-width:4\"/><line x1=\"360.29\" y1=\"795.0\" x2=\"360.29\" y2=\"885.0\" stroke-linecap=\"round\" style=\"stroke:white;stroke-width:4\"/><line x1=\"360.29\" y1=\"885.0\" x2=\"438.232\" y2=\"930.0\" stroke-linecap=\"round\" style=\"stroke:white;stroke-width:4\"/><line x1=\"438.232\" y1=\"930.0\" x2=\"516.174\" y2=\"885.0\" stroke-linecap=\"round\" style=\"stroke:white;stroke-width:4\"/><line x1=\"516.174\" y1=\"885.0\" x2=\"516.174\" y2=\"795.0\" stroke-linecap=\"round\" style=\"stroke:white;stroke-width:4\"/><line x1=\"516.174\" y1=\"795.0\" x2=\"516.174\" y2=\"885.0\" stroke-linecap=\"round\" style=\"stroke:white;stroke-width:4\"/><line x1=\"516.174\" y1=\"885.0\" x2=\"594.116\" y2=\"930.0\" stroke-linecap=\"round\" style=\"stroke:white;stroke-width:4\"/><line x1=\"594.116\" y1=\"930.0\" x2=\"672.058\" y2=\"885.0\" stroke-linecap=\"round\" style=\"stroke:white;stroke-width:4\"/><line x1=\"672.058\" y1=\"885.0\" x2=\"672.058\" y2=\"795.0\" stroke-linecap=\"round\" style=\"stroke:white;stroke-width:4\"/><line x1=\"672.058\" y1=\"795.0\" x2=\"672.058\" y2=\"885.0\" stroke-linecap=\"round\" style=\"stroke:white;stroke-width:4\"/><line x1=\"672.058\" y1=\"885.0\" x2=\"750.0\" y2=\"930.0\" stroke-linecap=\"round\" style=\"stroke:white;stroke-width:4\"/><line x1=\"750.0\" y1=\"930.0\" x2=\"827.942\" y2=\"885.0\" stroke-linecap=\"round\" style=\"stroke:white;stroke-width:4\"/><line x1=\"827.942\" y1=\"885.0\" x2=\"827.942\" y2=\"795.0\" stroke-linecap=\"round\" style=\"stroke:white;stroke-width:4\"/><line x1=\"827.942\" y1=\"795.0\" x2=\"750.0\" y2=\"750.0\" stroke-linecap=\"round\" style=\"stroke:white;stroke-width:4\"/><line x1=\"750.0\" y1=\"750.0\" x2=\"672.058\" y2=\"795.0\" stroke-linecap=\"round\" style=\"stroke:white;stroke-width:4\"/><line x1=\"672.058\" y1=\"795.0\" x2=\"672.058\" y2=\"885.0\" stroke-linecap=\"round\" style=\"stroke:white;stroke-width:4\"/><line x1=\"672.058\" y1=\"885.0\" x2=\"750.0\" y2=\"930.0\" stroke-linecap=\"round\" style=\"stroke:white;stroke-width:4\"/><line x1=\"750.0\" y1=\"930.0\" x2=\"750.0\" y2=\"1020.0\" stroke-linecap=\"round\" style=\"stroke:white;stroke-width:4\"/><line x1=\"750.0\" y1=\"1020.0\" x2=\"750.0\" y2=\"930.0\" stroke-linecap=\"round\" style=\"stroke:white;stroke-width:4\"/><line x1=\"750.0\" y1=\"930.0\" x2=\"672.058\" y2=\"885.0\" stroke-linecap=\"round\" style=\"stroke:white;stroke-width:4\"/><line x1=\"672.058\" y1=\"885.0\" x2=\"594.116\" y2=\"930.0\" stroke-linecap=\"round\" style=\"stroke:white;stroke-width:4\"/><line x1=\"594.116\" y1=\"930.0\" x2=\"594.116\" y2=\"1020.0\" stroke-linecap=\"round\" style=\"stroke:white;stroke-width:4\"/><line x1=\"594.116\" y1=\"1020.0\" x2=\"672.058\" y2=\"1065.0\" stroke-linecap=\"round\" style=\"stroke:white;stroke-width:4\"/><line x1=\"672.058\" y1=\"1065.0\" x2=\"750.0\" y2=\"1020.0\" stroke-linecap=\"round\" style=\"stroke:white;stroke-width:4\"/><line x1=\"750.0\" y1=\"1020.0\" x2=\"672.058\" y2=\"1065.0\" stroke-linecap=\"round\" style=\"stroke:white;stroke-width:4\"/><line x1=\"672.058\" y1=\"1065.0\" x2=\"594.116\" y2=\"1020.0\" stroke-linecap=\"round\" style=\"stroke:white;stroke-width:4\"/><line x1=\"594.116\" y1=\"1020.0\" x2=\"594.116\" y2=\"930.0\" stroke-linecap=\"round\" style=\"stroke:white;stroke-width:4\"/><line x1=\"594.116\" y1=\"930.0\" x2=\"516.174\" y2=\"885.0\" stroke-linecap=\"round\" style=\"stroke:white;stroke-width:4\"/><line x1=\"516.174\" y1=\"885.0\" x2=\"438.232\" y2=\"930.0\" stroke-linecap=\"round\" style=\"stroke:white;stroke-width:4\"/><line x1=\"438.232\" y1=\"930.0\" x2=\"438.232\" y2=\"1020.0\" stroke-linecap=\"round\" style=\"stroke:white;stroke-width:4\"/><line x1=\"438.232\" y1=\"1020.0\" x2=\"516.174\" y2=\"1065.0\" stroke-linecap=\"round\" style=\"stroke:white;stroke-width:4\"/><line x1=\"516.174\" y1=\"1065.0\" x2=\"594.116\" y2=\"1020.0\" stroke-linecap=\"round\" style=\"stroke:white;stroke-width:4\"/><line x1=\"594.116\" y1=\"1020.0\" x2=\"516.174\" y2=\"1065.0\" stroke-linecap=\"round\" style=\"stroke:white;stroke-width:4\"/><line x1=\"516.174\" y1=\"1065.0\" x2=\"438.232\" y2=\"1020.0\" stroke-linecap=\"round\" style=\"stroke:white;stroke-width:4\"/><line x1=\"438.232\" y1=\"1020.0\" x2=\"438.232\" y2=\"930.0\" stroke-linecap=\"round\" style=\"stroke:white;stroke-width:4\"/><line x1=\"438.232\" y1=\"930.0\" x2=\"360.29\" y2=\"885.0\" stroke-linecap=\"round\" style=\"stroke:white;stroke-width:4\"/><line x1=\"360.29\" y1=\"885.0\" x2=\"282.348\" y2=\"930.0\" stroke-linecap=\"round\" style=\"stroke:white;stroke-width:4\"/><line x1=\"282.348\" y1=\"930.0\" x2=\"282.348\" y2=\"1020.0\" stroke-linecap=\"round\" style=\"stroke:white;stroke-width:4\"/><line x1=\"282.348\" y1=\"1020.0\" x2=\"360.29\" y2=\"1065.0\" stroke-linecap=\"round\" style=\"stroke:white;stroke-width:4\"/><line x1=\"360.29\" y1=\"1065.0\" x2=\"438.232\" y2=\"1020.0\" stroke-linecap=\"round\" style=\"stroke:white;stroke-width:4\"/><line x1=\"438.232\" y1=\"1020.0\" x2=\"360.29\" y2=\"1065.0\" stroke-linecap=\"round\" style=\"stroke:white;stroke-width:4\"/><line x1=\"360.29\" y1=\"1065.0\" x2=\"282.348\" y2=\"1020.0\" stroke-linecap=\"round\" style=\"stroke:white;stroke-width:4\"/>\n",
              "        <g visibility=visible transform=\"rotate(360,282.348,1020.0) translate(264.348, 1002.0)\">\n",
              "<path style=\" stroke:none;fill-rule:evenodd;fill:white;fill-opacity:1;\" d=\"M 18.214844 0.632812 C 16.109375 1.800781 15.011719 4.074219 15.074219 7.132812 L 15.085938 7.652344 L 14.785156 7.496094 C 13.476562 6.824219 11.957031 6.671875 10.40625 7.066406 C 8.46875 7.550781 6.515625 9.15625 4.394531 11.992188 C 3.0625 13.777344 2.679688 14.636719 3.042969 15.027344 L 3.15625 15.152344 L 3.519531 15.152344 C 4.238281 15.152344 4.828125 14.886719 8.1875 13.039062 C 9.386719 12.378906 10.371094 11.839844 10.378906 11.839844 C 10.386719 11.839844 10.355469 11.929688 10.304688 12.035156 C 9.832031 13.09375 9.257812 14.820312 8.96875 16.078125 C 7.914062 20.652344 8.617188 24.53125 11.070312 27.660156 C 11.351562 28.015625 11.363281 27.914062 10.972656 28.382812 C 8.925781 30.84375 7.945312 33.28125 8.238281 35.1875 C 8.289062 35.527344 8.28125 35.523438 8.917969 35.523438 C 10.941406 35.523438 13.074219 34.207031 15.136719 31.6875 C 15.359375 31.417969 15.328125 31.425781 15.5625 31.574219 C 16.292969 32.042969 18.023438 32.964844 18.175781 32.964844 C 18.335938 32.964844 19.941406 32.210938 20.828125 31.71875 C 20.996094 31.625 21.136719 31.554688 21.136719 31.558594 C 21.203125 31.664062 21.898438 32.414062 22.222656 32.730469 C 23.835938 34.300781 25.5625 35.132812 27.582031 35.300781 C 27.90625 35.328125 27.9375 35.308594 28.007812 34.984375 C 28.382812 33.242188 27.625 30.925781 25.863281 28.425781 L 25.542969 27.96875 L 25.699219 27.785156 C 28.945312 23.960938 29.132812 18.699219 26.257812 11.96875 L 26.207031 11.84375 L 27.945312 12.703125 C 31.53125 14.476562 32.316406 14.800781 33.03125 14.800781 C 33.976562 14.800781 33.78125 13.9375 32.472656 12.292969 C 28.519531 7.355469 25.394531 5.925781 21.921875 7.472656 L 21.558594 7.636719 L 21.578125 7.542969 C 21.699219 6.992188 21.761719 5.742188 21.699219 5.164062 C 21.496094 3.296875 20.664062 1.964844 19.003906 0.855469 C 18.480469 0.503906 18.457031 0.5 18.214844 0.632812\"/>\n",
              "</g>\n",
              "      </svg>\n",
              "    "
            ]
          },
          "metadata": {}
        }
      ]
    }
  ]
}